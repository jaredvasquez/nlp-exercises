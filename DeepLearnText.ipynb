{
 "cells": [
  {
   "cell_type": "markdown",
   "metadata": {},
   "source": [
    "# Deep learning for text and sequences"
   ]
  },
  {
   "cell_type": "code",
   "execution_count": 2,
   "metadata": {
    "collapsed": true
   },
   "outputs": [],
   "source": [
    "import os\n",
    "import numpy as np\n",
    "\n",
    "import matplotlib.pyplot as plt\n",
    "%matplotlib inline"
   ]
  },
  {
   "cell_type": "markdown",
   "metadata": {},
   "source": [
    "## Working with text data\n",
    "\n",
    "In the age of information, text is everywhere. It can be understood either as a sequence of characters or a sequence of words. However, we cannot simply input raw text to a neural network. Like other machine learning tasks, the text must be encoded (vectorized) into a numeric tensor that describes the text. This can be done in many ways which we will explore below: \n",
    "* Segmenting text into words and transforming each word into a vector\n",
    "* Segmenting text into characters and transforming each character into a vector\n",
    "* Extracting `n-grams` of words or characters and tranforming each n-gram into a vector <br> (`n-grams` are overlapping groups of multiple consecutive words or characters)"
   ]
  },
  {
   "cell_type": "markdown",
   "metadata": {},
   "source": [
    "### One-hot encoding of words or characters\n",
    "\n",
    "One-hot encoding is the most common, most basic way to turn a token into a vector. It consists in associating a unique index to every word, then turning this index i into a vinary vector of size N. One-hot encoding can alos be done at the charicter level as well. \n",
    "\n",
    "As a quick exercise, we will implement the one-hot encoding of words ourself. "
   ]
  },
  {
   "cell_type": "code",
   "execution_count": 3,
   "metadata": {
    "collapsed": true
   },
   "outputs": [],
   "source": [
    "samples = [\n",
    "    'The cat sat on the mat',\n",
    "    'The dog ate my homework',\n",
    "    ]"
   ]
  },
  {
   "cell_type": "code",
   "execution_count": 4,
   "metadata": {
    "collapsed": true
   },
   "outputs": [],
   "source": [
    "token_index = {}\n",
    "for sample in samples:\n",
    "    sample = sample.lower()\n",
    "    for word in sample.split():\n",
    "        # In real life we should strip the punctuation, I will skip this \n",
    "        #    in my exercise because in practice I will use a library.\n",
    "         if word not in token_index:\n",
    "            token_index[word] = len(token_index) + 1\n",
    "            # note: we do not associate index 0 to anything. "
   ]
  },
  {
   "cell_type": "code",
   "execution_count": 5,
   "metadata": {
    "collapsed": true
   },
   "outputs": [],
   "source": [
    "# limit the vector space to only the top N words.\n",
    "max_length = 10\n",
    "\n",
    "results = np.zeros((len(samples), max_length, max(token_index.values()) + 1))\n",
    "for i, sample in enumerate(samples):\n",
    "    for j, word in list(enumerate(sample.split()))[:max_length]:\n",
    "        index = token_index[word.lower()]\n",
    "        results[i, j, index] = 1"
   ]
  },
  {
   "cell_type": "code",
   "execution_count": 6,
   "metadata": {},
   "outputs": [
    {
     "data": {
      "text/plain": [
       "array([[[ 0.,  1.,  0.,  0.,  0.,  0.,  0.,  0.,  0.,  0.],\n",
       "        [ 0.,  0.,  1.,  0.,  0.,  0.,  0.,  0.,  0.,  0.],\n",
       "        [ 0.,  0.,  0.,  1.,  0.,  0.,  0.,  0.,  0.,  0.],\n",
       "        [ 0.,  0.,  0.,  0.,  1.,  0.,  0.,  0.,  0.,  0.],\n",
       "        [ 0.,  1.,  0.,  0.,  0.,  0.,  0.,  0.,  0.,  0.],\n",
       "        [ 0.,  0.,  0.,  0.,  0.,  1.,  0.,  0.,  0.,  0.],\n",
       "        [ 0.,  0.,  0.,  0.,  0.,  0.,  0.,  0.,  0.,  0.],\n",
       "        [ 0.,  0.,  0.,  0.,  0.,  0.,  0.,  0.,  0.,  0.],\n",
       "        [ 0.,  0.,  0.,  0.,  0.,  0.,  0.,  0.,  0.,  0.],\n",
       "        [ 0.,  0.,  0.,  0.,  0.,  0.,  0.,  0.,  0.,  0.]],\n",
       "\n",
       "       [[ 0.,  1.,  0.,  0.,  0.,  0.,  0.,  0.,  0.,  0.],\n",
       "        [ 0.,  0.,  0.,  0.,  0.,  0.,  1.,  0.,  0.,  0.],\n",
       "        [ 0.,  0.,  0.,  0.,  0.,  0.,  0.,  1.,  0.,  0.],\n",
       "        [ 0.,  0.,  0.,  0.,  0.,  0.,  0.,  0.,  1.,  0.],\n",
       "        [ 0.,  0.,  0.,  0.,  0.,  0.,  0.,  0.,  0.,  1.],\n",
       "        [ 0.,  0.,  0.,  0.,  0.,  0.,  0.,  0.,  0.,  0.],\n",
       "        [ 0.,  0.,  0.,  0.,  0.,  0.,  0.,  0.,  0.,  0.],\n",
       "        [ 0.,  0.,  0.,  0.,  0.,  0.,  0.,  0.,  0.,  0.],\n",
       "        [ 0.,  0.,  0.,  0.,  0.,  0.,  0.,  0.,  0.,  0.],\n",
       "        [ 0.,  0.,  0.,  0.,  0.,  0.,  0.,  0.,  0.,  0.]]])"
      ]
     },
     "execution_count": 6,
     "metadata": {},
     "output_type": "execute_result"
    }
   ],
   "source": [
    "results"
   ]
  },
  {
   "cell_type": "markdown",
   "metadata": {},
   "source": [
    "We can of course to this using built-in utilities with keras. This will better handle any special characters and exceptions that we might encounter. "
   ]
  },
  {
   "cell_type": "code",
   "execution_count": 7,
   "metadata": {},
   "outputs": [],
   "source": [
    "from keras.preprocessing.text import Tokenizer\n",
    "\n",
    "# Builds the word index\n",
    "tokenizer = Tokenizer(num_words=10)\n",
    "tokenizer.fit_on_texts(samples)\n",
    "\n",
    "# Turns strings into lists of indices\n",
    "sequences = tokenizer.texts_to_sequences(samples)\n",
    "\n",
    "# One-hot binary representations (a little different than before)\n",
    "one_hot_results = tokenizer.texts_to_matrix(samples, mode='binary')"
   ]
  },
  {
   "cell_type": "code",
   "execution_count": 8,
   "metadata": {},
   "outputs": [
    {
     "data": {
      "text/plain": [
       "array([[ 0.,  1.,  1.,  1.,  1.,  1.,  0.,  0.,  0.,  0.],\n",
       "       [ 0.,  1.,  0.,  0.,  0.,  0.,  1.,  1.,  1.,  1.]])"
      ]
     },
     "execution_count": 8,
     "metadata": {},
     "output_type": "execute_result"
    }
   ],
   "source": [
    "one_hot_results"
   ]
  },
  {
   "cell_type": "markdown",
   "metadata": {},
   "source": [
    "### Using word embeddings\n",
    "\n",
    "Another popular and powerful way to associate a vector with a word is the use of dense \"word vectors\", also called \"word embeddings\". In contrast to one-hot encoding, word embeddings are low-dimensional floating point vectors which are learned from data. It is common to see word embeddings that are 255, 512, or 1024-dimensional when dealing with very large vocabularies; able to pack more information into far fewer dimensions than one-hot encoding.\n",
    "\n",
    "#### Learning word embeddings\n",
    "\n",
    "The geometric relationships between word vectors reflect the semantic relationships between these words. Word embeddings are meant to map human language into a vector space. A common example for meaningful gemetric transformations are \"gender\" and \"plural\" vectors. For instance, by adding a \"female\" vector to the vector \"king\", one may obtain the vector \"queen\". By adding a \"plural\" vector, one obtains \"kings\". Word embedding spaces typically feature thousands of such interpretable and potentially useful vectors. \n",
    "\n",
    "A physicist or lawyer typically uses a different set of language in their day-to-day lives. Similarly, the optimal word embedding depends on the context of your task: an optimal word embedding for art critique sentiment model may look very different from the perfect embedding space for a legal document classification model. Thus, it is reasonable to learn a new embedding space with each new task. Keras makes this very easy. "
   ]
  },
  {
   "cell_type": "code",
   "execution_count": 9,
   "metadata": {
    "collapsed": true
   },
   "outputs": [],
   "source": [
    "from keras.layers import Embedding\n",
    "\n",
    "# The embedding takes two arguments\n",
    "#    1. The number of possible tokens (1000)\n",
    "#    2. The dimensionality of the embeddings (64)\n",
    "embedding_layer = Embedding(1000, 64)"
   ]
  },
  {
   "cell_type": "markdown",
   "metadata": {},
   "source": [
    "When you instatiate an `Embedding` layer, its weights are initially random. Of course this isn't very effivient, so it must be trained to your domain. Let's apply this idea to IMDB movie review sentiment prediction. We will restrict the movie reviews to the top 10k most common words and cut the reviews after only 20 words."
   ]
  },
  {
   "cell_type": "code",
   "execution_count": 10,
   "metadata": {
    "collapsed": true
   },
   "outputs": [],
   "source": [
    "from keras.datasets import imdb\n",
    "from keras import preprocessing\n",
    "\n",
    "# Number of words to consider as features\n",
    "max_features = 10000\n",
    "\n",
    "# Cut texts after this number of words\n",
    "maxlen = 20\n",
    "\n",
    "# Load the data as lists of integers\n",
    "(X_train, y_train), (X_test, y_test) = imdb.load_data(num_words=max_features)\n",
    "\n",
    "# Turn our lists of integers into a 2D tensor of integers with shape '(samples, maxlen)'\n",
    "X_train = preprocessing.sequence.pad_sequences(X_train, maxlen=maxlen)\n",
    "X_test  = preprocessing.sequence.pad_sequences(X_test,  maxlen=maxlen)"
   ]
  },
  {
   "cell_type": "markdown",
   "metadata": {},
   "source": [
    "Our network will simply learn 8-dimensional embeddings for each fo the 10k words, turn the integer sequences (2D integer tensor) into embedded sequences (3D float tensor), flatten the tensor to 2D, and train a single `Dense` layer on top for classification."
   ]
  },
  {
   "cell_type": "code",
   "execution_count": 11,
   "metadata": {},
   "outputs": [
    {
     "name": "stdout",
     "output_type": "stream",
     "text": [
      "_________________________________________________________________\n",
      "Layer (type)                 Output Shape              Param #   \n",
      "=================================================================\n",
      "embedding_2 (Embedding)      (None, 20, 8)             80000     \n",
      "_________________________________________________________________\n",
      "flatten_1 (Flatten)          (None, 160)               0         \n",
      "_________________________________________________________________\n",
      "dense_1 (Dense)              (None, 1)                 161       \n",
      "=================================================================\n",
      "Total params: 80,161\n",
      "Trainable params: 80,161\n",
      "Non-trainable params: 0\n",
      "_________________________________________________________________\n"
     ]
    }
   ],
   "source": [
    "from keras.models import Sequential\n",
    "from keras.layers import Flatten, Dense\n",
    "\n",
    "model = Sequential()\n",
    "model.add(Embedding(10000, 8, input_length=maxlen))\n",
    "model.add(Flatten())\n",
    "model.add(Dense(1, activation='sigmoid'))\n",
    "\n",
    "model.compile(optimizer='rmsprop', loss='binary_crossentropy', metrics=['acc'])\n",
    "model.summary()"
   ]
  },
  {
   "cell_type": "markdown",
   "metadata": {},
   "source": [
    "Considering we only look at the first 20 words in every review, a validation accuracy of ~76% is pretty impressive! \n",
    "\n",
    "By only flattening the embedded sequences and training a single `Dense` layer the model treats each word individually, without considering inter-word relations and sentence structure. Such a model would likely treat both *\"this movie is shit\"* and *\"this movie is the shit\"* as both being negative reviews. It would be much better to add recurrent layers or a 1D convolution layer on top of the embedded sequences to learn features that take into account the full sentence. We will try both of these options later on in the notebook."
   ]
  },
  {
   "cell_type": "code",
   "execution_count": 12,
   "metadata": {},
   "outputs": [
    {
     "name": "stdout",
     "output_type": "stream",
     "text": [
      "Train on 20000 samples, validate on 5000 samples\n",
      "Epoch 1/10\n",
      "20000/20000 [==============================] - 1s - loss: 0.6560 - acc: 0.6485 - val_loss: 0.5907 - val_acc: 0.7146\n",
      "Epoch 2/10\n",
      "20000/20000 [==============================] - 0s - loss: 0.5189 - acc: 0.7594 - val_loss: 0.5117 - val_acc: 0.7364\n",
      "Epoch 3/10\n",
      "20000/20000 [==============================] - 0s - loss: 0.4512 - acc: 0.7933 - val_loss: 0.4949 - val_acc: 0.7470\n",
      "Epoch 4/10\n",
      "20000/20000 [==============================] - 1s - loss: 0.4190 - acc: 0.8068 - val_loss: 0.4905 - val_acc: 0.7538\n",
      "Epoch 5/10\n",
      "20000/20000 [==============================] - 0s - loss: 0.3965 - acc: 0.8197 - val_loss: 0.4914 - val_acc: 0.7572\n",
      "Epoch 6/10\n",
      "20000/20000 [==============================] - 0s - loss: 0.3784 - acc: 0.8311 - val_loss: 0.4953 - val_acc: 0.7592\n",
      "Epoch 7/10\n",
      "20000/20000 [==============================] - 1s - loss: 0.3624 - acc: 0.8419 - val_loss: 0.5004 - val_acc: 0.7574\n",
      "Epoch 8/10\n",
      "20000/20000 [==============================] - 0s - loss: 0.3474 - acc: 0.8483 - val_loss: 0.5058 - val_acc: 0.7572\n",
      "Epoch 9/10\n",
      "20000/20000 [==============================] - 1s - loss: 0.3330 - acc: 0.8583 - val_loss: 0.5122 - val_acc: 0.7528\n",
      "Epoch 10/10\n",
      "20000/20000 [==============================] - 1s - loss: 0.3194 - acc: 0.8668 - val_loss: 0.5183 - val_acc: 0.7552\n"
     ]
    }
   ],
   "source": [
    "history = model.fit(X_train, y_train, epochs=10, batch_size=32, validation_split=0.2)"
   ]
  },
  {
   "cell_type": "markdown",
   "metadata": {},
   "source": [
    "#### Using Pre-Trained Word Embeddings\n",
    "\n",
    "Sometimes, you might have so little data available that you could never use your data alone to learn an appropriate task-specific embedding of your vocabulary. Instead of learning word embeddings jointly with the problem you want to solve (as we just di), you could be loading embedding vectors from a pre-computed embedding space known to be highly structured and to exhibit useful properties -- that captures general aspects of language structure. The rationale behind using pre-trained word embeddings in NLP is very much the same as that of using pre-trained convnets in image classification: we don't have enough data to learn the optimal features for a problem, but we expect the features that we need to be fairly generic.\n",
    "\n",
    "While not the first, the most famous and successful word embedding algorithm is `Word2Vec`. There are many pre-computed databases of word embeddings included in keras; `Word2Vec` is one of them. Another popular choice is called \"GloVe\" (Global Vectors for Word Representation), it is an embedding technique based on factorizing a matrix of word co-occurence statistics."
   ]
  },
  {
   "cell_type": "markdown",
   "metadata": {},
   "source": [
    "#### From Raw text to word embeddings\n",
    "Let's put everything together but using raw (pre-tokenized) IMBD data and a pre-trained word embedding.  "
   ]
  },
  {
   "cell_type": "code",
   "execution_count": 13,
   "metadata": {
    "collapsed": true
   },
   "outputs": [],
   "source": [
    "# Collect and label the training data\n",
    "imdb_dir = 'raw_text'\n",
    "train_dir = os.path.join(imdb_dir, 'train')\n",
    "\n",
    "texts, labels = [], []\n",
    "\n",
    "for label_type in ['neg', 'pos']:\n",
    "    dir_name = os.path.join(train_dir, label_type)\n",
    "    for fname in os.listdir(dir_name):\n",
    "        if fname[-4:] == '.txt':\n",
    "            f = open(os.path.join(dir_name, fname))\n",
    "            texts.append(f.read())\n",
    "            f.close()\n",
    "            if label_type == 'neg':\n",
    "                labels.append(0)\n",
    "            else:\n",
    "                labels.append(1)"
   ]
  },
  {
   "cell_type": "markdown",
   "metadata": {},
   "source": [
    "Now we'll vectorize the texts we collected and prepare a training and validation split. Because pre-trained word embeddings are meant to be particularly useful on problems where little training data is available, we will restrict the training data to only the first 200 samples. We will still use a 10k sample validation set to see how well we do. "
   ]
  },
  {
   "cell_type": "code",
   "execution_count": 14,
   "metadata": {},
   "outputs": [
    {
     "name": "stdout",
     "output_type": "stream",
     "text": [
      "Found 88582 unique tokens.\n",
      "Shape of data tensor: (25000, 100)\n",
      "Shape of label tensor: (25000,)\n"
     ]
    }
   ],
   "source": [
    "from keras.preprocessing.text import Tokenizer\n",
    "from keras.preprocessing.sequence import pad_sequences\n",
    "\n",
    "maxlen = 100 \n",
    "max_words = 10000\n",
    "training_samples = 200\n",
    "validation_samples = 10000\n",
    "\n",
    "tokenizer = Tokenizer(num_words=max_words)\n",
    "tokenizer.fit_on_texts(texts)\n",
    "sequences = tokenizer.texts_to_sequences(texts)\n",
    "\n",
    "word_index = tokenizer.word_index\n",
    "print('Found %s unique tokens.' % len(word_index))\n",
    "\n",
    "data = pad_sequences(sequences, maxlen=maxlen)\n",
    "labels = np.asarray(labels)\n",
    "print('Shape of data tensor:', data.shape)\n",
    "print('Shape of label tensor:', labels.shape)\n",
    "\n",
    "# Shuffle data before splitting the data\n",
    "indices = np.arange(data.shape[0])\n",
    "np.random.shuffle(indices)\n",
    "labels = labels[indices]\n",
    "data = data[indices]\n",
    "\n",
    "X_train = data  [:training_samples]\n",
    "y_train = labels[:training_samples]\n",
    "X_val   = data  [training_samples: training_samples + validation_samples]\n",
    "y_val   = labels[training_samples: training_samples + validation_samples]"
   ]
  },
  {
   "cell_type": "markdown",
   "metadata": {},
   "source": [
    "I downloaded the GloVe training created by crawling Wikipedia 2014 + Gigaword 5, but we need to do some pre-processing of the embedding."
   ]
  },
  {
   "cell_type": "code",
   "execution_count": 15,
   "metadata": {},
   "outputs": [
    {
     "name": "stdout",
     "output_type": "stream",
     "text": [
      "Found 400000 word vectors.\n"
     ]
    }
   ],
   "source": [
    "glove_dir = 'glove.6B'\n",
    "\n",
    "embeddings_index = {}\n",
    "f = open(os.path.join(glove_dir, 'glove.6B.100d.txt'))\n",
    "for line in f:\n",
    "    values = line.split()\n",
    "    word = values[0]\n",
    "    coefs = np.asarray(values[1:], dtype='float32')\n",
    "    embeddings_index[word] = coefs\n",
    "f.close()\n",
    "\n",
    "print('Found %s word vectors.' % len(embeddings_index))"
   ]
  },
  {
   "cell_type": "markdown",
   "metadata": {},
   "source": [
    "Now let's build an embedding matrix that we will be able to load into an `Embedding` layer"
   ]
  },
  {
   "cell_type": "code",
   "execution_count": 16,
   "metadata": {
    "collapsed": true
   },
   "outputs": [],
   "source": [
    "embedding_dim = 100\n",
    "\n",
    "embedding_matrix = np.zeros((max_words, embedding_dim))\n",
    "for word, i in word_index.items():\n",
    "    embedding_vector = embeddings_index.get(word)\n",
    "    if i < max_words:\n",
    "        if embedding_vector is not None:\n",
    "            # Words not found in embedding index will be all-zeros\n",
    "            embedding_matrix[i] = embedding_vector"
   ]
  },
  {
   "cell_type": "markdown",
   "metadata": {},
   "source": [
    "Let's define the same model architecture as before."
   ]
  },
  {
   "cell_type": "code",
   "execution_count": 17,
   "metadata": {},
   "outputs": [
    {
     "name": "stdout",
     "output_type": "stream",
     "text": [
      "_________________________________________________________________\n",
      "Layer (type)                 Output Shape              Param #   \n",
      "=================================================================\n",
      "embedding_3 (Embedding)      (None, 100, 100)          1000000   \n",
      "_________________________________________________________________\n",
      "flatten_2 (Flatten)          (None, 10000)             0         \n",
      "_________________________________________________________________\n",
      "dense_2 (Dense)              (None, 32)                320032    \n",
      "_________________________________________________________________\n",
      "dense_3 (Dense)              (None, 1)                 33        \n",
      "=================================================================\n",
      "Total params: 1,320,065\n",
      "Trainable params: 1,320,065\n",
      "Non-trainable params: 0\n",
      "_________________________________________________________________\n"
     ]
    }
   ],
   "source": [
    "model = Sequential()\n",
    "model.add(Embedding(max_words, embedding_dim, input_length=maxlen))\n",
    "model.add(Flatten())\n",
    "model.add(Dense(32, activation='relu'))\n",
    "model.add(Dense(1, activation='sigmoid'))\n",
    "model.summary()"
   ]
  },
  {
   "cell_type": "markdown",
   "metadata": {},
   "source": [
    "One slight tweak however, is that we want to use our pre-trained embedding instead of training a new one. We do this by loading in our pre-trained weights and freezing the layer so that it will not be altered during training."
   ]
  },
  {
   "cell_type": "code",
   "execution_count": 18,
   "metadata": {
    "collapsed": true
   },
   "outputs": [],
   "source": [
    "model.layers[0].set_weights([embedding_matrix])\n",
    "model.layers[0].trainable = False"
   ]
  },
  {
   "cell_type": "markdown",
   "metadata": {},
   "source": [
    "Finally, let's train and evaluate our model:"
   ]
  },
  {
   "cell_type": "code",
   "execution_count": 19,
   "metadata": {},
   "outputs": [
    {
     "name": "stdout",
     "output_type": "stream",
     "text": [
      "Train on 200 samples, validate on 10000 samples\n",
      "Epoch 1/10\n",
      "200/200 [==============================] - 0s - loss: 2.0332 - acc: 0.5150 - val_loss: 0.7081 - val_acc: 0.5278\n",
      "Epoch 2/10\n",
      "200/200 [==============================] - 0s - loss: 0.5196 - acc: 0.7500 - val_loss: 0.9993 - val_acc: 0.5016\n",
      "Epoch 3/10\n",
      "200/200 [==============================] - 0s - loss: 0.4038 - acc: 0.8550 - val_loss: 0.7128 - val_acc: 0.5466\n",
      "Epoch 4/10\n",
      "200/200 [==============================] - 0s - loss: 0.3290 - acc: 0.8650 - val_loss: 1.0479 - val_acc: 0.5001\n",
      "Epoch 5/10\n",
      "200/200 [==============================] - 0s - loss: 0.2385 - acc: 0.9400 - val_loss: 0.7049 - val_acc: 0.5737\n",
      "Epoch 6/10\n",
      "200/200 [==============================] - 0s - loss: 0.1111 - acc: 1.0000 - val_loss: 0.7437 - val_acc: 0.5609\n",
      "Epoch 7/10\n",
      "200/200 [==============================] - 0s - loss: 0.3128 - acc: 0.8550 - val_loss: 0.9057 - val_acc: 0.5229\n",
      "Epoch 8/10\n",
      "200/200 [==============================] - 0s - loss: 0.0790 - acc: 1.0000 - val_loss: 0.7843 - val_acc: 0.5662\n",
      "Epoch 9/10\n",
      "200/200 [==============================] - 0s - loss: 0.0361 - acc: 1.0000 - val_loss: 0.7759 - val_acc: 0.5607\n",
      "Epoch 10/10\n",
      "200/200 [==============================] - 0s - loss: 0.0240 - acc: 1.0000 - val_loss: 0.8732 - val_acc: 0.5491\n"
     ]
    }
   ],
   "source": [
    "model.compile(optimizer='rmsprop',\n",
    "             loss='binary_crossentropy',\n",
    "             metrics=['acc'])\n",
    "history = model.fit(X_train, y_train, epochs=10, batch_size=32, validation_data=(X_val, y_val))\n",
    "model.save_weights('pre_trained_glove_model.h5')"
   ]
  },
  {
   "cell_type": "markdown",
   "metadata": {},
   "source": [
    "Let's plot the performance over each epoch of training"
   ]
  },
  {
   "cell_type": "code",
   "execution_count": 20,
   "metadata": {},
   "outputs": [
    {
     "data": {
      "image/png": "[encoded data removed]",
      "text/plain": [
       "<matplotlib.figure.Figure at 0x117897630>"
      ]
     },
     "metadata": {},
     "output_type": "display_data"
    },
    {
     "data": {
      "image/png": "[encoded data removed]",
      "text/plain": [
       "<matplotlib.figure.Figure at 0x1204c76d8>"
      ]
     },
     "metadata": {},
     "output_type": "display_data"
    }
   ],
   "source": [
    "acc      = history.history['acc']\n",
    "val_acc  = history.history['val_acc']\n",
    "loss     = history.history['loss']\n",
    "val_loss = history.history['val_loss']\n",
    "\n",
    "epochs = range(1, len(acc)+1)\n",
    "\n",
    "plt.plot(epochs, acc, 'bo', label='Training acc')\n",
    "plt.plot(epochs, val_acc, 'b', label='Validation acc')\n",
    "plt.title('Training and validation accuracy')\n",
    "plt.legend()\n",
    "\n",
    "plt.figure()\n",
    "\n",
    "plt.plot(epochs, loss, 'ro', label='Training loss')\n",
    "plt.plot(epochs, val_loss, 'r', label='Validation loss')\n",
    "plt.title('Training and validation loss')\n",
    "plt.legend()\n",
    "\n",
    "plt.show()"
   ]
  },
  {
   "cell_type": "markdown",
   "metadata": {},
   "source": [
    "The model quickly starts overfitting, unsurprisingly given the small number of training samples. Validation accuracy has high variance for the same reason, but seems to reach high 50s. This is pretty low, but with such a small training set it is not unexpected.\n",
    "\n",
    "Before moving forward, let's take quick inventory of what we can do:\n",
    "   * Turn raw text into something that a neural net can process\n",
    "   * Use the `Embedding` layer to learn task-specific token embeddings\n",
    "   * Leverage pre-trained word embeddings to get an extra boost on NLP problems with limited data"
   ]
  },
  {
   "cell_type": "markdown",
   "metadata": {
    "collapsed": true
   },
   "source": [
    "## Recurrent Neural Nets\n",
    "\n",
    "A major characteristic of most neural networks, such as densely-connected networks and convnets, is that they have no memory. Each input to them gets processed independently, with no state kept in-between inputs. With such networks, in order to process a sequence or a temporal series of data points, you have to show the entrie sequence to the network at once; i.e. turn it into a single datapoint. Such networks are called \"feedforward networks\". \n",
    "\n",
    "Recurrent Neural Networks (RNNs) process sequences by iterating through the sequence and maintaining a \"state\" containing information relative to what they have seen so far; i.e. these networks maintain some of the context of a sequence. In effect, RNNs are a type of neural network that has an internal loop. The state of the RNN is reset in-between processing two different, independent sequences, so we still consider one sequence as a single datapoint, a single input into the network -- what changes is that this datapoint is no longer processed in a single step, rather, the network internally loops over sequence elements.\n",
    "\n",
    "In general, this is too much of an oversimplification to have any real use. In state-of-the-art RNN models, one would typically use a `LSTM` (Long-Short Term Memory) or `GRU` (Gated Recurrent Units) layers. These variants help to solve the vanishing gradient problem and hence have longer memories than a simple RNN. We will not get into the details of how these two layers work but to say that they offer a way of saving information for later use. The GRU layer runs on the same principle but is somewhat streamlined and is thus cheaper to run, although it might not have quite as much representational power as the LSTM."
   ]
  },
  {
   "cell_type": "code",
   "execution_count": 21,
   "metadata": {
    "collapsed": true
   },
   "outputs": [],
   "source": [
    "# Reload the dataset\n",
    "maxlen = 500\n",
    "max_features = 10000\n",
    "(X_train, y_train), (X_test, y_test) = imdb.load_data(num_words=max_features)\n",
    "X_train = preprocessing.sequence.pad_sequences(X_train, maxlen=maxlen)\n",
    "X_test  = preprocessing.sequence.pad_sequences(X_test,  maxlen=maxlen)"
   ]
  },
  {
   "cell_type": "code",
   "execution_count": 60,
   "metadata": {},
   "outputs": [
    {
     "name": "stdout",
     "output_type": "stream",
     "text": [
      "Train on 20000 samples, validate on 5000 samples\n",
      "Epoch 1/10\n",
      "20000/20000 [==============================] - 168s - loss: 0.4954 - acc: 0.7645 - val_loss: 0.3179 - val_acc: 0.8742\n",
      "Epoch 2/10\n",
      "20000/20000 [==============================] - 167s - loss: 0.2856 - acc: 0.8903 - val_loss: 0.3267 - val_acc: 0.8608\n",
      "Epoch 3/10\n",
      "20000/20000 [==============================] - 161s - loss: 0.2300 - acc: 0.9130 - val_loss: 0.3469 - val_acc: 0.8836\n",
      "Epoch 4/10\n",
      "20000/20000 [==============================] - 165s - loss: 0.2072 - acc: 0.9244 - val_loss: 0.3338 - val_acc: 0.8710\n",
      "Epoch 5/10\n",
      "20000/20000 [==============================] - 164s - loss: 0.1722 - acc: 0.9389 - val_loss: 0.3420 - val_acc: 0.8836\n",
      "Epoch 6/10\n",
      "20000/20000 [==============================] - 161s - loss: 0.1554 - acc: 0.9435 - val_loss: 0.5392 - val_acc: 0.8402\n",
      "Epoch 7/10\n",
      "20000/20000 [==============================] - 160s - loss: 0.1456 - acc: 0.9496 - val_loss: 0.3400 - val_acc: 0.8786\n",
      "Epoch 8/10\n",
      "20000/20000 [==============================] - 160s - loss: 0.1290 - acc: 0.9547 - val_loss: 0.3255 - val_acc: 0.8820\n",
      "Epoch 9/10\n",
      "20000/20000 [==============================] - 160s - loss: 0.1210 - acc: 0.9585 - val_loss: 0.3427 - val_acc: 0.8868\n",
      "Epoch 10/10\n",
      "20000/20000 [==============================] - 160s - loss: 0.1104 - acc: 0.9615 - val_loss: 0.3671 - val_acc: 0.8736\n"
     ]
    }
   ],
   "source": [
    "from keras.layers import LSTM\n",
    "\n",
    "model = Sequential()\n",
    "model.add(Embedding(max_features, 32))\n",
    "model.add(LSTM(32))\n",
    "model.add(Dense(1, activation='sigmoid'))\n",
    "\n",
    "model.compile(optimizer='rmsprop', loss='binary_crossentropy', metrics=['acc'])\n",
    "history = model.fit(X_train, y_train, epochs=10, batch_size=128, validation_split=0.2)"
   ]
  },
  {
   "cell_type": "code",
   "execution_count": 61,
   "metadata": {
    "collapsed": true
   },
   "outputs": [],
   "source": [
    "def plot_history(history):\n",
    "    acc      = history.history['acc']\n",
    "    val_acc  = history.history['val_acc']\n",
    "    loss     = history.history['loss']\n",
    "    val_loss = history.history['val_loss']\n",
    "\n",
    "    epochs = range(1, len(acc)+1)\n",
    "\n",
    "    plt.plot(epochs, acc, 'bo', label='Training acc')\n",
    "    plt.plot(epochs, val_acc, 'b', label='Validation acc')\n",
    "    plt.title('Training and validation accuracy')\n",
    "    plt.legend()\n",
    "\n",
    "    plt.figure()\n",
    "\n",
    "    plt.plot(epochs, loss, 'ro', label='Training loss')\n",
    "    plt.plot(epochs, val_loss, 'r', label='Validation loss')\n",
    "    plt.title('Training and validation loss')\n",
    "    plt.legend()\n",
    "\n",
    "    plt.show()"
   ]
  },
  {
   "cell_type": "code",
   "execution_count": 62,
   "metadata": {},
   "outputs": [
    {
     "data": {
      "image/png": "[encoded data removed]",
      "text/plain": [
       "<matplotlib.figure.Figure at 0x13d696828>"
      ]
     },
     "metadata": {},
     "output_type": "display_data"
    },
    {
     "data": {
      "image/png": "[encoded data removed]",
      "text/plain": [
       "<matplotlib.figure.Figure at 0x13aaa2f60>"
      ]
     },
     "metadata": {},
     "output_type": "display_data"
    }
   ],
   "source": [
    "plot_history(history)"
   ]
  },
  {
   "cell_type": "markdown",
   "metadata": {},
   "source": [
    "So we achieve a validation accuracy of ~87%; not bad considering we are truncating the full sequences. On the other hand, it is also not groundbreaking. One might do better by optimizing the hyperparmeters of the model, such as the dimensionality of the embeddings or LSTM. We might also benefit by some regularization. But honestly, the reason is mostly that analyzing the global, long-term structure of reviews (what LSTM is really good at) isn't very helpful for a sentiment analysis problem. Such a basic problem is very well solved by simply looking at what words occur in each review and at what frequency. But there are far more difficult NLP problems out there, where the strength of LSTM will become apparent: in particular, question answering and machine translation. "
   ]
  },
  {
   "cell_type": "markdown",
   "metadata": {
    "collapsed": true
   },
   "source": [
    "### Recurrent Dropout\n",
    "\n",
    "Dropout is used frequently to fight over-fitting in typical feedforward neural nets, consisting of randomly zeroing-out input units of a layer in order to break happenstance correlations in the training data that the layer is exposed to. However, to corretly apply dropout in recurrent networks is not trivial. Instead of applying a random dropout mask for each timestep, you must instead apply the same dropout mask for each timestep of a series. What's more: in order to regularize the repressentations formed by the recurrent gates of layers such as GRU and LSTM, a temporally constant dropout mask should be applied to the inner recurrent activations of the layer (a \"recurrent\" dropout mask). Using the same dropout mask at every timestep allows the network to properly propagate its learning error through time; a temporally random dropout mask would instead disrupt this error signal and be harmful to the learning process. \n",
    "\n",
    "Let's add dropout to our LSTM layer and see how it impacts overfitting. Because networks being regularized with dropout always take longer to fully converge, we train our network for twice as many epochs. "
   ]
  },
  {
   "cell_type": "code",
   "execution_count": null,
   "metadata": {},
   "outputs": [
    {
     "name": "stdout",
     "output_type": "stream",
     "text": [
      "Train on 20000 samples, validate on 5000 samples\n",
      "Epoch 1/20\n",
      "20000/20000 [==============================] - 182s - loss: 0.5645 - acc: 0.7315 - val_loss: 0.4212 - val_acc: 0.8168\n",
      "Epoch 2/20\n",
      "18048/20000 [==========================>...] - ETA: 16s - loss: 0.3780 - acc: 0.8452"
     ]
    }
   ],
   "source": [
    "from keras.optimizers import RMSprop\n",
    "from keras.layers import LSTM\n",
    "\n",
    "model = Sequential()\n",
    "model.add(Embedding(max_features, 32))\n",
    "model.add(LSTM(32, dropout=0.2, recurrent_dropout=0.2))\n",
    "model.add(Dense(1, activation='sigmoid'))\n",
    "\n",
    "model.compile(optimizer='rmsprop', loss='binary_crossentropy', metrics=['acc'])\n",
    "history = model.fit(X_train, y_train, epochs=20, batch_size=128, validation_split=0.2)"
   ]
  },
  {
   "cell_type": "code",
   "execution_count": null,
   "metadata": {
    "collapsed": true
   },
   "outputs": [],
   "source": [
    "plot_history(history)"
   ]
  },
  {
   "cell_type": "code",
   "execution_count": null,
   "metadata": {
    "collapsed": true
   },
   "outputs": [],
   "source": []
  }
 ],
 "metadata": {
  "kernelspec": {
   "display_name": "Python 3",
   "language": "python",
   "name": "python3"
  },
  "language_info": {
   "codemirror_mode": {
    "name": "ipython",
    "version": 3
   },
   "file_extension": ".py",
   "mimetype": "text/x-python",
   "name": "python",
   "nbconvert_exporter": "python",
   "pygments_lexer": "ipython3",
   "version": "3.6.2"
  }
 },
 "nbformat": 4,
 "nbformat_minor": 2
}
